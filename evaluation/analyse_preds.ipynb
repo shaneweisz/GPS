{
 "cells": [
  {
   "cell_type": "code",
   "execution_count": 22,
   "metadata": {},
   "outputs": [],
   "source": [
    "import pandas as pd"
   ]
  },
  {
   "cell_type": "code",
   "execution_count": 23,
   "metadata": {},
   "outputs": [],
   "source": [
    "# read in conan_test_preds.csv\n",
    "df_conan_test_preds = pd.read_csv('conan_test_preds.csv')\n"
   ]
  },
  {
   "cell_type": "code",
   "execution_count": 24,
   "metadata": {},
   "outputs": [],
   "source": [
    "with open('../data/conan_for_VAE.txt', 'r') as f:\n",
    "    ground_truths = [line.rstrip('\\n').lower() for line in f]\n",
    "ground_truths = set(ground_truths)"
   ]
  },
  {
   "cell_type": "code",
   "execution_count": 25,
   "metadata": {},
   "outputs": [
    {
     "data": {
      "text/plain": [
       "(112, 661)"
      ]
     },
     "execution_count": 25,
     "metadata": {},
     "output_type": "execute_result"
    }
   ],
   "source": [
    "new_preds = 0\n",
    "old_preds = 0\n",
    "for row in df_conan_test_preds.iterrows():\n",
    "    if row[1]['HypothesisResponse'].lower() not in ground_truths:\n",
    "        new_preds += 1\n",
    "    else:\n",
    "        old_preds += 1\n",
    "old_preds, new_preds"
   ]
  },
  {
   "cell_type": "markdown",
   "metadata": {},
   "source": [
    "i.e. most predictions are new ones from the VAE"
   ]
  }
 ],
 "metadata": {
  "interpreter": {
   "hash": "bc0b9ef06b1139aec1e6bb685dd47a76c6d8aee53ad527b8595af18e97ab31f9"
  },
  "kernelspec": {
   "display_name": "Python 3.7.7 ('.venv': venv)",
   "language": "python",
   "name": "python3"
  },
  "language_info": {
   "codemirror_mode": {
    "name": "ipython",
    "version": 3
   },
   "file_extension": ".py",
   "mimetype": "text/x-python",
   "name": "python",
   "nbconvert_exporter": "python",
   "pygments_lexer": "ipython3",
   "version": "3.7.7"
  },
  "orig_nbformat": 4
 },
 "nbformat": 4,
 "nbformat_minor": 2
}
