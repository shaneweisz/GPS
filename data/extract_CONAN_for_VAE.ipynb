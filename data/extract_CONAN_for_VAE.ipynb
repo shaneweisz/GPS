{
 "cells": [
  {
   "cell_type": "code",
   "execution_count": 1,
   "metadata": {},
   "outputs": [],
   "source": [
    "import pandas as pd"
   ]
  },
  {
   "cell_type": "code",
   "execution_count": 2,
   "metadata": {},
   "outputs": [],
   "source": [
    "CONAN_dir = 'CONAN/CONAN.csv'\n",
    "df = pd.read_csv(CONAN_dir)\n",
    "df[\"language\"] = df[\"cn_id\"].apply(lambda x: x[:2])"
   ]
  },
  {
   "cell_type": "code",
   "execution_count": 3,
   "metadata": {},
   "outputs": [
    {
     "name": "stdout",
     "output_type": "stream",
     "text": [
      "Number of english HS-CS pairs is: 3864\n",
      "Number of unique hateSpeech examples: 408\n",
      "Thus counterSpeech per hateSpeech ratio is: 9.47\n",
      "Number of unique counterSpeech examples: 1270\n"
     ]
    }
   ],
   "source": [
    "df_english = df[df['language'] == 'EN']\n",
    "n_eng = len(df_english)\n",
    "nuniq_hs = df_english['hateSpeech'].nunique()\n",
    "print(f\"Number of english HS-CS pairs is: {n_eng}\")\n",
    "print(f\"Number of unique hateSpeech examples: {nuniq_hs}\")\n",
    "print(f\"Thus counterSpeech per hateSpeech ratio is: {n_eng/nuniq_hs:.2f}\")\n",
    "nuniq_cs = df_english['counterSpeech'].nunique()\n",
    "print(f\"Number of unique counterSpeech examples: {nuniq_cs}\")"
   ]
  },
  {
   "cell_type": "code",
   "execution_count": 4,
   "metadata": {},
   "outputs": [],
   "source": [
    "candidates = df_english[\"counterSpeech\"]\n",
    "with open(\"CONAN_for_VAE.txt\", \"w\") as f:\n",
    "    for candidate in candidates:\n",
    "        f.write(candidate + \"\\n\")"
   ]
  }
 ],
 "metadata": {
  "interpreter": {
   "hash": "508be7a7a8e67011f93c8ddfe7c15dcb4aa7775064806595f26a5f6620d21a11"
  },
  "kernelspec": {
   "display_name": "Python 3.7.7 ('.venv': venv)",
   "language": "python",
   "name": "python3"
  },
  "language_info": {
   "codemirror_mode": {
    "name": "ipython",
    "version": 3
   },
   "file_extension": ".py",
   "mimetype": "text/x-python",
   "name": "python",
   "nbconvert_exporter": "python",
   "pygments_lexer": "ipython3",
   "version": "3.7.7"
  },
  "orig_nbformat": 4
 },
 "nbformat": 4,
 "nbformat_minor": 2
}
